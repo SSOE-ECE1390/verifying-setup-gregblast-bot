{
 "cells": [
  {
   "cell_type": "markdown",
   "metadata": {},
   "source": [
    "# <font style=\"color:black\">Lecture 1: Homework Problem</font>\n",
    "\n",
    "In this first homework set, I want you to make sure that you can use GitHub, MS Code, and OpenCV.\n",
    "You should (already to be able to read this document), clone the Github classroom assignment and edit it in VS Code.  In this python notebook, do the following:\n",
    "\n",
    "* Load an (Grayscale) image  (‘Data/Apollo_11_Launch.jpg’)\n",
    "* View image\n",
    "* Crop image\n",
    "* Edit brightness of image\n",
    "* Rotate image\n",
    "* Save modified image"
   ]
  },
  {
   "cell_type": "code",
   "execution_count": 1,
   "metadata": {},
   "outputs": [],
   "source": [
    "# Imports\n",
    "import cv2"
   ]
  },
  {
   "cell_type": "code",
   "execution_count": 2,
   "metadata": {},
   "outputs": [],
   "source": [
    "# Common methods\n",
    "def user_destroys_window(window_name):\n",
    "    # Loop to check for a key press or when window close button is clicked\n",
    "    while True:\n",
    "        key = cv2.waitKey(1)\n",
    "\n",
    "        # Check specific key\n",
    "        if key == ord('q'):\n",
    "            break\n",
    "\n",
    "        # Check window visibility\n",
    "        if cv2.getWindowProperty(window_name, cv2.WND_PROP_VISIBLE) < 1:\n",
    "            break\n",
    "\n",
    "    # Destroy all OpenCV windows\n",
    "    cv2.destroyAllWindows()"
   ]
  },
  {
   "cell_type": "markdown",
   "metadata": {},
   "source": [
    "# <font style=\"color:red\">Load Image</font>"
   ]
  },
  {
   "cell_type": "code",
   "execution_count": 3,
   "metadata": {},
   "outputs": [],
   "source": [
    "# Load the image in grayscale\n",
    "image_path = 'Data/Apollo_11_Launch.jpg'\n",
    "grayscale_image = cv2.imread(image_path, cv2.IMREAD_GRAYSCALE)"
   ]
  },
  {
   "cell_type": "markdown",
   "metadata": {},
   "source": [
    "# <font style=\"color:red\">View Image</font>"
   ]
  },
  {
   "cell_type": "code",
   "execution_count": 4,
   "metadata": {},
   "outputs": [],
   "source": [
    "window_name = \"Apollo 11 Launch!\"\n",
    "\n",
    "# View the image\n",
    "cv2.imshow(window_name, grayscale_image)\n",
    "\n",
    "# Destroy window\n",
    "user_destroys_window(window_name)"
   ]
  },
  {
   "cell_type": "markdown",
   "metadata": {},
   "source": [
    "# <font style=\"color:red\">Crop Image</font>"
   ]
  },
  {
   "cell_type": "code",
   "execution_count": 5,
   "metadata": {},
   "outputs": [],
   "source": [
    "# Crop the image\n",
    "cropped_image = grayscale_image[100:600, 500:800]\n",
    "\n",
    "cropped_window_name = \"Look at that rocket!\"\n",
    "\n",
    "# View the image\n",
    "cv2.imshow(cropped_window_name, cropped_image)\n",
    "\n",
    "# Destroy window\n",
    "user_destroys_window(cropped_window_name)"
   ]
  },
  {
   "cell_type": "markdown",
   "metadata": {},
   "source": [
    "# <font style=\"color:red\">Brighten Image</font>"
   ]
  },
  {
   "cell_type": "code",
   "execution_count": 6,
   "metadata": {},
   "outputs": [],
   "source": [
    "# Brighten the image\n",
    "bright_image = cv2.add(cropped_image, 50)\n",
    "\n",
    "bright_window_name = \"Liftoff!\"\n",
    "\n",
    "# View the image\n",
    "cv2.imshow(bright_window_name, bright_image)\n",
    "\n",
    "# Destroy window\n",
    "user_destroys_window(bright_window_name)"
   ]
  },
  {
   "cell_type": "markdown",
   "metadata": {},
   "source": [
    "# <font style=\"color:red\">Rotate Image</font>"
   ]
  },
  {
   "cell_type": "code",
   "execution_count": 7,
   "metadata": {},
   "outputs": [],
   "source": [
    "# Rotate the image\n",
    "rotate_image = cv2.rotate(bright_image, cv2.ROTATE_90_CLOCKWISE)\n",
    "\n",
    "rotate_window_name = \"Sideways Liftoff?\"\n",
    "\n",
    "# View the image\n",
    "cv2.imshow(rotate_window_name, rotate_image)\n",
    "\n",
    "# Destroy window\n",
    "user_destroys_window(rotate_window_name)"
   ]
  },
  {
   "cell_type": "markdown",
   "metadata": {},
   "source": [
    "# <font style=\"color:red\">Save Modified Image</font>"
   ]
  },
  {
   "cell_type": "code",
   "execution_count": 8,
   "metadata": {},
   "outputs": [
    {
     "data": {
      "text/plain": [
       "True"
      ]
     },
     "execution_count": 8,
     "metadata": {},
     "output_type": "execute_result"
    }
   ],
   "source": [
    "# Save the modified image\n",
    "cv2.imwrite('Data/Apollo_11_Launch_Modified.jpg', rotate_image)"
   ]
  }
 ],
 "metadata": {
  "kernelspec": {
   "display_name": "ECE2390",
   "language": "python",
   "name": "python3"
  },
  "language_info": {
   "codemirror_mode": {
    "name": "ipython",
    "version": 3
   },
   "file_extension": ".py",
   "mimetype": "text/x-python",
   "name": "python",
   "nbconvert_exporter": "python",
   "pygments_lexer": "ipython3",
   "version": "3.12.11"
  }
 },
 "nbformat": 4,
 "nbformat_minor": 2
}
